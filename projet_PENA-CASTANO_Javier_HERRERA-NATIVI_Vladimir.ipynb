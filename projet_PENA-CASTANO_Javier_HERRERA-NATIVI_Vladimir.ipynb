{
 "cells": [
  {
   "cell_type": "code",
   "execution_count": 2,
   "metadata": {},
   "outputs": [],
   "source": [
    "import pandas as pd\n",
    "import numpy as np\n",
    "from sklearn.preprocessing import MultiLabelBinarizer"
   ]
  },
  {
   "cell_type": "code",
   "execution_count": 3,
   "metadata": {},
   "outputs": [],
   "source": [
    "data_dir = \"HERRERA_NATIVI_VLADIMIR\"\n",
    "metadata_Vlad = pd.read_csv(\"HERRERA_NATIVI_VLADIMIR/metadata.csv\")\n",
    "metadata_Javi = pd.read_csv(\"PENA_CASTANO_JAVIER/metadata.csv\")\n",
    "\n",
    "# La prof ma parlé d'un tensorboard"
   ]
  },
  {
   "cell_type": "code",
   "execution_count": 4,
   "metadata": {},
   "outputs": [
    {
     "name": "stdout",
     "output_type": "stream",
     "text": [
      "Vladi : (5627, 13) | Javi : (5477, 12)\n"
     ]
    }
   ],
   "source": [
    "print(f\"Vladi : {metadata_Vlad.shape} | Javi : {metadata_Javi.shape}\")"
   ]
  },
  {
   "cell_type": "code",
   "execution_count": 5,
   "metadata": {},
   "outputs": [],
   "source": [
    "# Fusionner les datasets\n",
    "#metadata_combined = pd.concat([metadata_Vlad, metadata_Javi])\n",
    "\n",
    "# Supprimer les doublons en gardant la première occurrence\n",
    "#metadata_combined = metadata_combined.drop_duplicates(subset=\"Image Index\", keep=\"first\")\n",
    "\n",
    "# Afficher un aperçu\n",
    "#print(metadata_combined.head())\n",
    "\n",
    "# Sauvegarder le dataset fusionné si besoin\n",
    "#metadata_combined.to_csv(\"metadata_combined.csv\", index=False)\n",
    "\n",
    "#print(f\"Merged  : {metadata_combined.shape}\")"
   ]
  },
  {
   "cell_type": "code",
   "execution_count": 6,
   "metadata": {},
   "outputs": [
    {
     "data": {
      "text/html": [
       "<div>\n",
       "<style scoped>\n",
       "    .dataframe tbody tr th:only-of-type {\n",
       "        vertical-align: middle;\n",
       "    }\n",
       "\n",
       "    .dataframe tbody tr th {\n",
       "        vertical-align: top;\n",
       "    }\n",
       "\n",
       "    .dataframe thead th {\n",
       "        text-align: right;\n",
       "    }\n",
       "</style>\n",
       "<table border=\"1\" class=\"dataframe\">\n",
       "  <thead>\n",
       "    <tr style=\"text-align: right;\">\n",
       "      <th></th>\n",
       "      <th>Image Index</th>\n",
       "      <th>Finding Labels</th>\n",
       "      <th>Follow-up #</th>\n",
       "      <th>Patient ID</th>\n",
       "      <th>Patient Age</th>\n",
       "      <th>Patient Gender</th>\n",
       "      <th>View Position</th>\n",
       "      <th>WEIGHTS</th>\n",
       "      <th>train</th>\n",
       "    </tr>\n",
       "  </thead>\n",
       "  <tbody>\n",
       "    <tr>\n",
       "      <th>0</th>\n",
       "      <td>00000006_000.png</td>\n",
       "      <td>No Finding</td>\n",
       "      <td>0</td>\n",
       "      <td>6</td>\n",
       "      <td>81</td>\n",
       "      <td>M</td>\n",
       "      <td>PA</td>\n",
       "      <td>1</td>\n",
       "      <td>True</td>\n",
       "    </tr>\n",
       "    <tr>\n",
       "      <th>1</th>\n",
       "      <td>00000025_000.png</td>\n",
       "      <td>Effusion</td>\n",
       "      <td>0</td>\n",
       "      <td>25</td>\n",
       "      <td>71</td>\n",
       "      <td>M</td>\n",
       "      <td>PA</td>\n",
       "      <td>1</td>\n",
       "      <td>True</td>\n",
       "    </tr>\n",
       "    <tr>\n",
       "      <th>2</th>\n",
       "      <td>00000029_000.png</td>\n",
       "      <td>No Finding</td>\n",
       "      <td>0</td>\n",
       "      <td>29</td>\n",
       "      <td>59</td>\n",
       "      <td>F</td>\n",
       "      <td>PA</td>\n",
       "      <td>1</td>\n",
       "      <td>False</td>\n",
       "    </tr>\n",
       "    <tr>\n",
       "      <th>3</th>\n",
       "      <td>00000072_000.png</td>\n",
       "      <td>Atelectasis</td>\n",
       "      <td>0</td>\n",
       "      <td>72</td>\n",
       "      <td>67</td>\n",
       "      <td>F</td>\n",
       "      <td>PA</td>\n",
       "      <td>1</td>\n",
       "      <td>True</td>\n",
       "    </tr>\n",
       "    <tr>\n",
       "      <th>4</th>\n",
       "      <td>00000090_000.png</td>\n",
       "      <td>No Finding</td>\n",
       "      <td>0</td>\n",
       "      <td>90</td>\n",
       "      <td>67</td>\n",
       "      <td>F</td>\n",
       "      <td>PA</td>\n",
       "      <td>1</td>\n",
       "      <td>True</td>\n",
       "    </tr>\n",
       "    <tr>\n",
       "      <th>...</th>\n",
       "      <td>...</td>\n",
       "      <td>...</td>\n",
       "      <td>...</td>\n",
       "      <td>...</td>\n",
       "      <td>...</td>\n",
       "      <td>...</td>\n",
       "      <td>...</td>\n",
       "      <td>...</td>\n",
       "      <td>...</td>\n",
       "    </tr>\n",
       "    <tr>\n",
       "      <th>5622</th>\n",
       "      <td>00030752_000.png</td>\n",
       "      <td>No Finding</td>\n",
       "      <td>0</td>\n",
       "      <td>30752</td>\n",
       "      <td>64</td>\n",
       "      <td>F</td>\n",
       "      <td>AP</td>\n",
       "      <td>1</td>\n",
       "      <td>True</td>\n",
       "    </tr>\n",
       "    <tr>\n",
       "      <th>5623</th>\n",
       "      <td>00030772_000.png</td>\n",
       "      <td>No Finding</td>\n",
       "      <td>0</td>\n",
       "      <td>30772</td>\n",
       "      <td>26</td>\n",
       "      <td>F</td>\n",
       "      <td>AP</td>\n",
       "      <td>1</td>\n",
       "      <td>True</td>\n",
       "    </tr>\n",
       "    <tr>\n",
       "      <th>5624</th>\n",
       "      <td>00030772_001.png</td>\n",
       "      <td>Consolidation</td>\n",
       "      <td>1</td>\n",
       "      <td>30772</td>\n",
       "      <td>26</td>\n",
       "      <td>F</td>\n",
       "      <td>AP</td>\n",
       "      <td>1</td>\n",
       "      <td>True</td>\n",
       "    </tr>\n",
       "    <tr>\n",
       "      <th>5625</th>\n",
       "      <td>00030772_002.png</td>\n",
       "      <td>Consolidation</td>\n",
       "      <td>2</td>\n",
       "      <td>30772</td>\n",
       "      <td>26</td>\n",
       "      <td>F</td>\n",
       "      <td>AP</td>\n",
       "      <td>1</td>\n",
       "      <td>True</td>\n",
       "    </tr>\n",
       "    <tr>\n",
       "      <th>5626</th>\n",
       "      <td>00030805_000.png</td>\n",
       "      <td>No Finding</td>\n",
       "      <td>0</td>\n",
       "      <td>30805</td>\n",
       "      <td>27</td>\n",
       "      <td>M</td>\n",
       "      <td>PA</td>\n",
       "      <td>1</td>\n",
       "      <td>True</td>\n",
       "    </tr>\n",
       "  </tbody>\n",
       "</table>\n",
       "<p>5627 rows × 9 columns</p>\n",
       "</div>"
      ],
      "text/plain": [
       "           Image Index Finding Labels  Follow-up #  Patient ID  Patient Age  \\\n",
       "0     00000006_000.png     No Finding            0           6           81   \n",
       "1     00000025_000.png       Effusion            0          25           71   \n",
       "2     00000029_000.png     No Finding            0          29           59   \n",
       "3     00000072_000.png    Atelectasis            0          72           67   \n",
       "4     00000090_000.png     No Finding            0          90           67   \n",
       "...                ...            ...          ...         ...          ...   \n",
       "5622  00030752_000.png     No Finding            0       30752           64   \n",
       "5623  00030772_000.png     No Finding            0       30772           26   \n",
       "5624  00030772_001.png  Consolidation            1       30772           26   \n",
       "5625  00030772_002.png  Consolidation            2       30772           26   \n",
       "5626  00030805_000.png     No Finding            0       30805           27   \n",
       "\n",
       "     Patient Gender View Position  WEIGHTS  train  \n",
       "0                 M            PA        1   True  \n",
       "1                 M            PA        1   True  \n",
       "2                 F            PA        1  False  \n",
       "3                 F            PA        1   True  \n",
       "4                 F            PA        1   True  \n",
       "...             ...           ...      ...    ...  \n",
       "5622              F            AP        1   True  \n",
       "5623              F            AP        1   True  \n",
       "5624              F            AP        1   True  \n",
       "5625              F            AP        1   True  \n",
       "5626              M            PA        1   True  \n",
       "\n",
       "[5627 rows x 9 columns]"
      ]
     },
     "execution_count": 6,
     "metadata": {},
     "output_type": "execute_result"
    }
   ],
   "source": [
    "# Elimination des colonnes non necessaire pour notre étude initial\n",
    "colonnes_a_eliminer = ['OriginalImage[Width','Height]', 'OriginalImagePixelSpacing[x', 'y]']\n",
    "data = metadata_Vlad.drop(columns=colonnes_a_eliminer, inplace=False) \n",
    "data"
   ]
  },
  {
   "cell_type": "code",
   "execution_count": 7,
   "metadata": {},
   "outputs": [],
   "source": [
    "# Encodage des colonnes a valeurs non continue \n",
    "\n",
    "# Encodage binaire pour Patient Gender et View Position\n",
    "data['Patient Gender'] = (data['Patient Gender'] == 'M').astype(int) # M est la réference et donc sera associé a la valeur 0 \n",
    "data['View Position'] = (data['View Position'] == 'PA').astype(int) # PA est la réference et donc sera associé a la valeur 0  \n",
    "\n",
    "# On effectue un encodage binaire pour finding labels du fait qu'on s'interesse uniquement au fait d'être malade ou pas (on n'essaye pas de prédire les maladies)\n",
    "data['Finding Labels'] = (data['Finding Labels'] == 'No Finding').astype(int) # No Finding est la réference et donc sera associé a la valeur 0 (tous le reste des maladies seront mise a 1)\n",
    "\n",
    "# dataset_encod.head()"
   ]
  },
  {
   "cell_type": "code",
   "execution_count": 8,
   "metadata": {},
   "outputs": [
    {
     "data": {
      "text/plain": [
       "Index(['Image Index', 'Finding Labels', 'Follow-up #', 'Patient ID',\n",
       "       'Patient Age', 'Patient Gender', 'View Position', 'WEIGHTS', 'train'],\n",
       "      dtype='object')"
      ]
     },
     "execution_count": 8,
     "metadata": {},
     "output_type": "execute_result"
    }
   ],
   "source": [
    "data.columns"
   ]
  },
  {
   "cell_type": "code",
   "execution_count": 9,
   "metadata": {},
   "outputs": [],
   "source": [
    "\n",
    "# Sauvegarder une fois que le pretraitement sera fait \n",
    "data.to_csv(f\"{data_dir}/metadata_encod.csv\", index=False) # sauvegarde de csv encodé "
   ]
  },
  {
   "cell_type": "code",
   "execution_count": 10,
   "metadata": {},
   "outputs": [],
   "source": [
    "dataset_col_utiles = data.loc[data['Patient Age'] <= 120] # On élimine les patients qui ont plus de 120 ans "
   ]
  },
  {
   "cell_type": "markdown",
   "metadata": {},
   "source": [
    "# Première methode naïve de pre-processing : reweighting"
   ]
  },
  {
   "cell_type": "code",
   "execution_count": 11,
   "metadata": {},
   "outputs": [
    {
     "name": "stdout",
     "output_type": "stream",
     "text": [
      "Poids calculées pour les sexes :\n",
      "Femme Malade : 0.8652716513398885\n",
      "Femme Saine : 1.1518640538396279\n",
      "Homme Malade : 0.8241034868846114\n",
      "Homme Sain : 1.2205941645286227\n",
      "\n"
     ]
    }
   ],
   "source": [
    "\n",
    "# -------------------------------------------  Répondération en fonction du genre  -------------------------------------------\n",
    "nbtotSexe =  (data[\"Patient Gender\"]).count()\n",
    "nbFemmes = (data[\"Patient Gender\"] == 1).sum()\n",
    "nbHommes = (data[\"Patient Gender\"] == 0).sum()\n",
    "nbMalades = (data[\"Finding Labels\"] == 0).sum()\n",
    "nbSains= nbtotSexe - nbMalades\n",
    "\n",
    "\n",
    "propH = nbHommes/nbtotSexe\n",
    "propF = nbFemmes/nbtotSexe\n",
    "propM = nbMalades/nbtotSexe\n",
    "propS = 1 - propM\n",
    "\n",
    "# études pour les femmes\n",
    "nbFemmesMalades = ((data[\"Patient Gender\"] == 1) & (data[\"Finding Labels\"] == 1)).sum()\n",
    "nbFemmesSain= nbFemmes - nbFemmesMalades\n",
    "propFMF = nbFemmesMalades / nbFemmes\n",
    "propFM = nbFemmesMalades / nbtotSexe\n",
    "propFS = 1 - propFM\n",
    "propFSF = 1 - propFMF\n",
    "\n",
    "# étude pour les hommes\n",
    "nbHommesMalades = ((data[\"Patient Gender\"] == 0) & (data[\"Finding Labels\"] == 1)).sum()\n",
    "nbHommesSain = nbHommes - nbHommesMalades\n",
    "propHMH = nbHommesMalades / nbHommes  # proportions des Hommes malades sur popHommes \n",
    "propHM = nbHommesMalades / nbtotSexe \n",
    "propHS = 1 - propHM\n",
    "propHSH = 1 - propHMH  # proportions des Hommes sains sur popHommes \n",
    "\n",
    "\n",
    "poidsFM = (nbFemmes * nbMalades) / (nbFemmesMalades * nbtotSexe)\n",
    "poidsFS = (nbFemmes * nbSains) / (nbFemmesSain * nbtotSexe)\n",
    "\n",
    "poidsHM = (nbHommes * nbMalades) / (nbHommesMalades * nbtotSexe)\n",
    "poidsHS = (nbHommes * nbSains) / (nbHommesSain * nbtotSexe)\n",
    "\n",
    "print(f\"Poids calculées pour les sexes :\\nFemme Malade : {poidsFM}\\nFemme Saine : {poidsFS}\\nHomme Malade : {poidsHM}\\nHomme Sain : {poidsHS}\\n\")"
   ]
  },
  {
   "cell_type": "code",
   "execution_count": null,
   "metadata": {},
   "outputs": [
    {
     "name": "stdout",
     "output_type": "stream",
     "text": [
      "Poids calculées pour les positions :\n",
      "PA Malade : 0.9741578820448354\n",
      "PA Sain : 1.0229780041263805\n",
      "Ap Malade : 0.7788565407014685\n",
      "AP Sain : 1.2305741568542938\n",
      "\n"
     ]
    }
   ],
   "source": [
    "# ------------------------------------------- Répondération en fonction de la position du Rayon X -------------------------------------------\n",
    "#  PA == 0\n",
    "\n",
    "nbtotPosi =  (data[\"View Position\"]).count()\n",
    "nbAP = (data[\"View Position\"] == 1).sum()\n",
    "nbPA = (data[\"View Position\"] == 0).sum()\n",
    "nbMalades = (data[\"Finding Labels\"] == 0).sum()\n",
    "nbSains = nbtotPosi - nbMalades\n",
    "\n",
    "\n",
    "propPA = nbPA/nbtotPosi\n",
    "propAP = nbAP/nbtotPosi\n",
    "propM = nbMalades/nbtotPosi\n",
    "propS = 1 - propM\n",
    "\n",
    "#nb de PA malades\n",
    "nbAPMalades = ((data[\"View Position\"] == 1) & (data[\"Finding Labels\"] == 1)).sum()\n",
    "nbAPSain= nbFemmes - nbFemmesMalades\n",
    "\n",
    "\n",
    "#nb de AP malades\n",
    "nbPAMalades = ((data[\"View Position\"] == 0) &( data[\"Finding Labels\"] == 1)).sum()\n",
    "nbPASain = nbPA - nbPAMalades\n",
    "\n",
    "\n",
    "poidsAPM = (nbAP * nbMalades) / (nbAPMalades * nbtotPosi)\n",
    "poidsAPS = (nbAP * nbSains) / (nbAPSain * nbtotPosi)\n",
    "\n",
    "poidsPAM = (nbPA * nbMalades) / (nbPAMalades * nbtotPosi)\n",
    "poidsPAS = (nbPA * nbSains) / (nbPASain * nbtotPosi)\n",
    "\n",
    "print(f\"Poids calculées pour les positions :\\nPA Malade : {poidsPAM}\\nPA Sain : {poidsPAS}\\nAp Malade : {poidsAPM}\\nAP Sain : {poidsAPS}\\n\")"
   ]
  },
  {
   "cell_type": "code",
   "execution_count": 18,
   "metadata": {},
   "outputs": [
    {
     "name": "stdout",
     "output_type": "stream",
     "text": [
      "Poids calculées pour les groupes d'ages :\n",
      "Jeune Malade : 0.7780274284598085\n",
      "Jeune Sain : 1.3185216168849088\n",
      "Vieux Malade : 0.8574555435845033\n",
      "Vieux Sain : 1.395646734010052\n",
      "\n"
     ]
    }
   ],
   "source": [
    "# ------------------------------------------- Répondération en fonction du 'Patient Age' -------------------------------------------\n",
    "seuil_age = 40\n",
    "data['Age Group'] = np.where(data['Patient Age'] >= seuil_age, 1, 0) # 1 répresent les \"vieux\"\n",
    "\n",
    "\n",
    "nbtotAge = data['Age Group'].count()\n",
    "nbVieux = (data['Age Group'] == 1).sum()\n",
    "nbJeunes = (data['Age Group'] == 0).sum()\n",
    "\n",
    "nbMalades = (data[\"Finding Labels\"] == 0).sum()\n",
    "nbSains = nbtotAge - nbMalades\n",
    "\n",
    "\n",
    "propJeunes = nbJeunes/nbtotAge\n",
    "propVieux = nbVieux/nbtotAge\n",
    "propM = nbMalades/nbtotAge\n",
    "propS = 1 - propM\n",
    "\n",
    "#nb de PA malades\n",
    "nbVieuxMalades = ((data[\"Age Group\"] == 1) & (data[\"Finding Labels\"] == 1)).sum()\n",
    "nbVieuxSain= nbFemmes - nbFemmesMalades\n",
    "\n",
    "\n",
    "#nb de AP malades\n",
    "nbJeunesMalades = ((data[\"View Position\"] == 0) &( data[\"Finding Labels\"] == 1)).sum()\n",
    "nbJeunesSain = nbJeunes - nbJeunesMalades\n",
    "\n",
    "\n",
    "poidsVieuxM = (nbVieux * nbMalades) / (nbVieuxMalades * nbtotAge)\n",
    "poidsVieuxS = (nbVieux * nbSains) / (nbVieuxSain * nbtotAge)\n",
    "\n",
    "poidsJeunesM = (nbJeunes * nbMalades) / (nbJeunesMalades * nbtotAge)\n",
    "poidsJeunesS = (nbJeunes * nbSains) / (nbJeunesSain * nbtotAge)\n",
    "\n",
    "print(f\"Poids calculées pour les groupes d'ages :\\nJeune Malade : {poidsJeunesM}\\nJeune Sain : {poidsJeunesS}\\nVieux Malade : {poidsVieuxM}\\nVieux Sain : {poidsVieuxS}\\n\")"
   ]
  },
  {
   "cell_type": "code",
   "execution_count": null,
   "metadata": {},
   "outputs": [],
   "source": []
  }
 ],
 "metadata": {
  "kernelspec": {
   "display_name": "Python 3",
   "language": "python",
   "name": "python3"
  },
  "language_info": {
   "codemirror_mode": {
    "name": "ipython",
    "version": 3
   },
   "file_extension": ".py",
   "mimetype": "text/x-python",
   "name": "python",
   "nbconvert_exporter": "python",
   "pygments_lexer": "ipython3",
   "version": "3.10.16"
  }
 },
 "nbformat": 4,
 "nbformat_minor": 2
}
