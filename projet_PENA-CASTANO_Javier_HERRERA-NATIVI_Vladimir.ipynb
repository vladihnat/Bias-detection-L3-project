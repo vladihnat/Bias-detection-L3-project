{
 "cells": [
  {
   "cell_type": "code",
   "execution_count": 1,
   "metadata": {},
   "outputs": [
    {
     "name": "stderr",
     "output_type": "stream",
     "text": [
      "WARNING:root:No module named 'tensorflow': AdversarialDebiasing will be unavailable. To install, run:\n",
      "pip install 'aif360[AdversarialDebiasing]'\n",
      "WARNING:root:No module named 'tensorflow': AdversarialDebiasing will be unavailable. To install, run:\n",
      "pip install 'aif360[AdversarialDebiasing]'\n",
      "/home/vladhnat/Fairness/projetFairness/env/lib/python3.10/site-packages/inFairness/utils/ndcg.py:37: FutureWarning: We've integrated functorch into PyTorch. As the final step of the integration, `functorch.vmap` is deprecated as of PyTorch 2.0 and will be deleted in a future version of PyTorch >= 2.3. Please use `torch.vmap` instead; see the PyTorch 2.0 release notes and/or the `torch.func` migration guide for more details https://pytorch.org/docs/main/func.migrating.html\n",
      "  vect_normalized_discounted_cumulative_gain = vmap(\n",
      "/home/vladhnat/Fairness/projetFairness/env/lib/python3.10/site-packages/inFairness/utils/ndcg.py:48: FutureWarning: We've integrated functorch into PyTorch. As the final step of the integration, `functorch.vmap` is deprecated as of PyTorch 2.0 and will be deleted in a future version of PyTorch >= 2.3. Please use `torch.vmap` instead; see the PyTorch 2.0 release notes and/or the `torch.func` migration guide for more details https://pytorch.org/docs/main/func.migrating.html\n",
      "  monte_carlo_vect_ndcg = vmap(vect_normalized_discounted_cumulative_gain, in_dims=(0,))\n"
     ]
    }
   ],
   "source": [
    "import pandas as pd\n",
    "import numpy as np\n",
    "from sklearn.preprocessing import MultiLabelBinarizer\n",
    "\n",
    "# Datasets\n",
    "from aif360.datasets import MEPSDataset19\n",
    "from aif360.explainers import MetricTextExplainer\n",
    "\n",
    "# Fairness metrics\n",
    "from aif360.metrics import BinaryLabelDatasetMetric\n",
    "from aif360.metrics import ClassificationMetric\n",
    "from sklearn.metrics import accuracy_score, balanced_accuracy_score\n",
    "\n",
    "\n",
    "#graphiques\n",
    "import plotly.graph_objects as go\n",
    "from plotly.subplots import make_subplots\n"
   ]
  },
  {
   "cell_type": "code",
   "execution_count": 2,
   "metadata": {},
   "outputs": [],
   "source": [
    "data_dir = \"HERRERA_NATIVI_VLADIMIR\"\n",
    "metadata_Vlad = pd.read_csv(\"HERRERA_NATIVI_VLADIMIR/metadata.csv\")\n",
    "metadata_Javi = pd.read_csv(\"PENA_CASTANO_JAVIER/metadata.csv\")\n",
    "# La prof ma parlé d'un tensorboard"
   ]
  },
  {
   "cell_type": "code",
   "execution_count": 3,
   "metadata": {},
   "outputs": [],
   "source": [
    "# Predictions : \n",
    "\n",
    "preds_weights = pd.read_csv(\"expe_log/predsOrig.csv\")"
   ]
  },
  {
   "cell_type": "code",
   "execution_count": 4,
   "metadata": {},
   "outputs": [
    {
     "name": "stdout",
     "output_type": "stream",
     "text": [
      "Vladi : (5627, 13) | Javi : (5477, 12)\n"
     ]
    }
   ],
   "source": [
    "print(f\"Vladi : {metadata_Vlad.shape} | Javi : {metadata_Javi.shape}\")"
   ]
  },
  {
   "cell_type": "code",
   "execution_count": 5,
   "metadata": {},
   "outputs": [],
   "source": [
    "# Fusionner les datasets\n",
    "#metadata_combined = pd.concat([metadata_Vlad, metadata_Javi])\n",
    "\n",
    "# Supprimer les doublons en gardant la première occurrence\n",
    "#metadata_combined = metadata_combined.drop_duplicates(subset=\"Image Index\", keep=\"first\")\n",
    "\n",
    "# Afficher un aperçu\n",
    "#print(metadata_combined.head())\n",
    "\n",
    "# Sauvegarder le dataset fusionné si besoin\n",
    "#metadata_combined.to_csv(\"metadata_combined.csv\", index=False)\n",
    "\n",
    "#print(f\"Merged  : {metadata_combined.shape}\")"
   ]
  },
  {
   "cell_type": "code",
   "execution_count": 6,
   "metadata": {},
   "outputs": [],
   "source": [
    "# Elimination des colonnes non necessaire pour notre étude initial\n",
    "colonnes_a_eliminer = ['OriginalImage[Width','Height]', 'OriginalImagePixelSpacing[x', 'y]']\n",
    "data = metadata_Vlad.drop(columns=colonnes_a_eliminer, inplace=False) \n",
    "data = data.loc[data['Patient Age'] <= 120] # On élimine les patients qui ont plus de 120 ans "
   ]
  },
  {
   "cell_type": "markdown",
   "metadata": {},
   "source": [
    "# Analyse quantitative des données "
   ]
  },
  {
   "cell_type": "code",
   "execution_count": 7,
   "metadata": {},
   "outputs": [],
   "source": [
    "data_graphiques = data.copy() "
   ]
  },
  {
   "cell_type": "code",
   "execution_count": 9,
   "metadata": {},
   "outputs": [],
   "source": [
    "#Affichage de graphiques pour la visualisation de la repartition de l'age, le follow up, le genre et la position\n",
    "fig = make_subplots(rows = 2, cols=2, subplot_titles = [\"Follow Up\", \"Age\", \"Gender\", \"Position\"])\n",
    "fig.add_trace (go.Histogram(x=data_graphiques['Follow-up #'], name= \"follow up\"), row = 1, col=1)\n",
    "fig.add_trace (go.Histogram(x=data_graphiques['Patient Age'], name= \"Age\"), row = 1, col=2)\n",
    "fig.add_trace (go.Histogram(x=data_graphiques['Patient Gender'], name= \"Gender\"), row = 2, col=1)\n",
    "fig.add_trace (go.Histogram(x=data_graphiques['View Position'], name= \"Position\"), row = 2, col=2)\n",
    "\n",
    "fig.update_layout(title = \"Histograms\")\n",
    "fig.write_image(\"Histogrammes1.png\")"
   ]
  },
  {
   "cell_type": "code",
   "execution_count": 10,
   "metadata": {},
   "outputs": [
    {
     "name": "stderr",
     "output_type": "stream",
     "text": [
      "/tmp/ipykernel_4927/2254919267.py:14: FutureWarning:\n",
      "\n",
      "The default of observed=False is deprecated and will be changed to True in a future version of pandas. Pass observed=False to retain current behavior or observed=True to adopt the future default and silence this warning.\n",
      "\n"
     ]
    }
   ],
   "source": [
    "# Créons d'abord une colonne pour identifier les patients malades et non malades\n",
    "data_graphiques['is_sick'] = ~data_graphiques['Finding Labels'].str.contains('No Finding')\n",
    "data_graphiques['status'] = data_graphiques['is_sick'].map({True: 'Malade', False: 'Non malade'})\n",
    "\n",
    "# 1. Histogramme pour l'âge\n",
    "fig = make_subplots(rows=1, cols=3, subplot_titles=[\"Âge\", \"Genre\", \"Position\"])\n",
    "\n",
    "# Groupes d'âge\n",
    "age_bins = [0, 20, 40, 60, 80, 100]  # Définir 4 tranches d'âge\n",
    "age_labels = ['0-20', '21-40', '41-60', '61-80', '81+']\n",
    "data_graphiques['age_group'] = pd.cut(data_graphiques['Patient Age'], bins=age_bins, labels=age_labels)\n",
    "\n",
    "# Compte normalisé par groupe d'âge et par statut (malade/non malade)\n",
    "age_counts = data_graphiques.groupby(['age_group', 'status']).size().unstack(fill_value=0)\n",
    "age_counts_normalized = age_counts.div(age_counts.sum(axis=0), axis=1)\n",
    "\n",
    "# Ajout du trace pour l'âge\n",
    "for status, color in zip(['Malade', 'Non malade'], ['red', 'green']):\n",
    "    if status in age_counts_normalized.columns:\n",
    "        fig.add_trace(\n",
    "            go.Bar(\n",
    "                x=age_counts_normalized.index,\n",
    "                y=age_counts_normalized[status],\n",
    "                name=status,\n",
    "                marker_color=color\n",
    "            ),\n",
    "            row=1, col=1\n",
    "        )\n",
    "\n",
    "# 2. Histogramme pour le genre\n",
    "gender_counts = data_graphiques.groupby(['Patient Gender', 'status']).size().unstack(fill_value=0)\n",
    "gender_counts_normalized = gender_counts.div(gender_counts.sum(axis=0), axis=1)\n",
    "\n",
    "for status, color in zip(['Malade', 'Non malade'], ['red', 'green']):\n",
    "    if status in gender_counts_normalized.columns:\n",
    "        fig.add_trace(\n",
    "            go.Bar(\n",
    "                x=gender_counts_normalized.index,\n",
    "                y=gender_counts_normalized[status],\n",
    "                name=status,\n",
    "                marker_color=color,\n",
    "                showlegend=False\n",
    "            ),\n",
    "            row=1, col=2\n",
    "        )\n",
    "\n",
    "# 3. Histogramme pour la position\n",
    "position_counts = data_graphiques.groupby(['View Position', 'status']).size().unstack(fill_value=0)\n",
    "position_counts_normalized = position_counts.div(position_counts.sum(axis=0), axis=1)\n",
    "\n",
    "for status, color in zip(['Malade', 'Non malade'], ['red', 'green']):\n",
    "    if status in position_counts_normalized.columns:\n",
    "        fig.add_trace(\n",
    "            go.Bar(\n",
    "                x=position_counts_normalized.index,\n",
    "                y=position_counts_normalized[status],\n",
    "                name=status,\n",
    "                marker_color=color,\n",
    "                showlegend=False\n",
    "            ),\n",
    "            row=1, col=3\n",
    "        )\n",
    "\n",
    "# Mise à jour de la mise en page\n",
    "fig.update_layout(\n",
    "    title=\"Distribution normalisée par catégorie (Malades vs Non malades)\",\n",
    "    height=500,\n",
    "    width=1200,\n",
    "    bargap=0.1,\n",
    "    bargroupgap=0.2,\n",
    ")\n",
    "\n",
    "fig.update_yaxes(title_text=\"Proportion\", range=[0, 1])\n",
    "fig.update_xaxes(title_text=\"Groupe d'âge\", row=1, col=1)\n",
    "fig.update_xaxes(title_text=\"Genre\", row=1, col=2)\n",
    "fig.update_xaxes(title_text=\"Position\", row=1, col=3)\n",
    "\n",
    "# Sauvegarde de l'image\n",
    "fig.write_image(\"Histogrammes_normalises.png\")"
   ]
  },
  {
   "cell_type": "markdown",
   "metadata": {},
   "source": [
    "## Encodage des dataframes"
   ]
  },
  {
   "cell_type": "code",
   "execution_count": 12,
   "metadata": {},
   "outputs": [],
   "source": [
    "# Encodage des colonnes a valeurs non continue \n",
    "\n",
    "# Encodage binaire pour Patient Gender et View Position\n",
    "data['Patient Gender'] = (data['Patient Gender'] == 'F').astype(int) # F est associé a la valeur 1 \n",
    "data['View Position'] = (data['View Position'] == 'AP').astype(int) # AP est associé a la valeur 1  \n",
    "\n",
    "# On effectue un encodage binaire pour finding labels du fait qu'on s'interesse uniquement au fait d'être malade ou pas (on n'essaye pas de prédire les maladies)\n",
    "data['Finding Labels'] = (data['Finding Labels'] == 'No Finding').astype(int) # No Finding est associé a la valeur 1 \n",
    "\n",
    "# dataset_encod.head()\n",
    "# Encodage des predictions \n",
    "preds_weights['preds'] = (preds_weights['preds'] == 'sain').astype(int) # sain est associé a 1 \n",
    "\n",
    "# Ages \n",
    "seuil_age = 40\n",
    "data['Age Group'] = np.where(data['Patient Age'] >= seuil_age, 1, 0) # 1 répresent les \"vieux\"\n",
    "\n"
   ]
  },
  {
   "cell_type": "code",
   "execution_count": 9,
   "metadata": {},
   "outputs": [],
   "source": [
    "\n",
    "# Sauvegarder une fois que le pretraitement sera fait \n",
    "#data.to_csv(f\"{data_dir}/metadata_encod.csv\", index=False) # sauvegarde de csv encodé "
   ]
  },
  {
   "cell_type": "markdown",
   "metadata": {},
   "source": [
    "# Pre processing"
   ]
  },
  {
   "cell_type": "markdown",
   "metadata": {},
   "source": [
    "### Première methode naïve de pre-processing : reweighting"
   ]
  },
  {
   "cell_type": "code",
   "execution_count": 46,
   "metadata": {},
   "outputs": [
    {
     "name": "stdout",
     "output_type": "stream",
     "text": [
      "Poids calculées pour les sexes :\n",
      "Femme Malade : 1.033302225044209\n",
      "Femme Saine : 0.9734456018962356\n",
      "Homme Malade : 0.9754662395970608\n",
      "Homme Sain : 1.0217508263870834\n",
      "\n"
     ]
    }
   ],
   "source": [
    "\n",
    "# -------------------------------------------  Répondération en fonction du genre  -------------------------------------------\n",
    "nbtotSexe =  (data[\"Patient Gender\"]).count()\n",
    "nbFemmes = (data[\"Patient Gender\"] == 1).sum()\n",
    "nbHommes = (data[\"Patient Gender\"] == 0).sum()\n",
    "nbMalades = (data[\"Finding Labels\"] == 0).sum()\n",
    "nbSains= nbtotSexe - nbMalades\n",
    "\n",
    "\n",
    "propH = nbHommes/nbtotSexe\n",
    "propF = nbFemmes/nbtotSexe\n",
    "propM = nbMalades/nbtotSexe\n",
    "propS = 1 - propM\n",
    "\n",
    "# études pour les femmes\n",
    "nbFemmesMalades = ((data[\"Patient Gender\"] == 1) & (data[\"Finding Labels\"] == 0)).sum()\n",
    "nbFemmesSain= nbFemmes - nbFemmesMalades\n",
    "propFMF = nbFemmesMalades / nbFemmes\n",
    "propFM = nbFemmesMalades / nbtotSexe\n",
    "propFS = 1 - propFM\n",
    "propFSF = 1 - propFMF\n",
    "\n",
    "# étude pour les hommes\n",
    "nbHommesMalades = ((data[\"Patient Gender\"] == 0) & (data[\"Finding Labels\"] == 0)).sum()\n",
    "nbHommesSain = nbHommes - nbHommesMalades\n",
    "propHMH = nbHommesMalades / nbHommes  # proportions des Hommes malades sur popHommes \n",
    "propHM = nbHommesMalades / nbtotSexe \n",
    "propHS = 1 - propHM\n",
    "propHSH = 1 - propHMH  # proportions des Hommes sains sur popHommes \n",
    "\n",
    "\n",
    "poidsFM = (nbFemmes * nbMalades) / (nbFemmesMalades * nbtotSexe)\n",
    "poidsFS = (nbFemmes * nbSains) / (nbFemmesSain * nbtotSexe)\n",
    "\n",
    "poidsHM = (nbHommes * nbMalades) / (nbHommesMalades * nbtotSexe)\n",
    "poidsHS = (nbHommes * nbSains) / (nbHommesSain * nbtotSexe)\n",
    "\n",
    "print(f\"Poids calculées pour les sexes :\\nFemme Malade : {poidsFM}\\nFemme Saine : {poidsFS}\\nHomme Malade : {poidsHM}\\nHomme Sain : {poidsHS}\\n\")"
   ]
  },
  {
   "cell_type": "code",
   "execution_count": null,
   "metadata": {},
   "outputs": [
    {
     "name": "stdout",
     "output_type": "stream",
     "text": [
      "Poids calculées pour les positions :\n",
      "PA Malade : 0.7788565407014685\n",
      "PA Sain : 1.3165105810550617\n",
      "Ap Malade : 0.9741578820448354\n",
      "AP Sain : 1.113680807051663\n",
      "\n"
     ]
    }
   ],
   "source": [
    "# ------------------------------------------- Répondération en fonction de la position du Rayon X -------------------------------------------\n",
    "#  PA == 0\n",
    "\n",
    "nbtotPosi =  (data[\"View Position\"]).count()\n",
    "nbAP = (data[\"View Position\"] == 1).sum()\n",
    "nbPA = (data[\"View Position\"] == 0).sum()\n",
    "nbMalades = (data[\"Finding Labels\"] == 0).sum()\n",
    "nbSains = nbtotPosi - nbMalades\n",
    "\n",
    "\n",
    "propPA = nbPA/nbtotPosi\n",
    "propAP = nbAP/nbtotPosi\n",
    "propM = nbMalades/nbtotPosi\n",
    "propS = 1 - propM\n",
    "\n",
    "#nb de PA malades\n",
    "nbAPMalades = ((data[\"View Position\"] == 1) & (data[\"Finding Labels\"] == 0)).sum()\n",
    "nbAPSain= nbAP - nbAPMalades\n",
    "\n",
    "\n",
    "#nb de AP malades\n",
    "nbPAMalades = ((data[\"View Position\"] == 0) &( data[\"Finding Labels\"] == 0)).sum()\n",
    "nbPASain = nbPA - nbPAMalades\n",
    "\n",
    "\n",
    "poidsAPM = (nbAP * nbMalades) / (nbAPMalades * nbtotPosi)\n",
    "poidsAPS = (nbAP * nbSains) / (nbAPSain * nbtotPosi)\n",
    "\n",
    "poidsPAM = (nbPA * nbMalades) / (nbPAMalades * nbtotPosi)\n",
    "poidsPAS = (nbPA * nbSains) / (nbPASain * nbtotPosi)\n",
    "\n",
    "print(f\"Poids calculées pour les positions :\\nPA Malade : {poidsPAM}\\nPA Sain : {poidsPAS}\\nAp Malade : {poidsAPM}\\nAP Sain : {poidsAPS}\\n\")"
   ]
  },
  {
   "cell_type": "code",
   "execution_count": null,
   "metadata": {},
   "outputs": [
    {
     "name": "stdout",
     "output_type": "stream",
     "text": [
      "Poids calculées pour les groupes d'ages :\n",
      "Jeune Malade : 0.8247558025414787\n",
      "Jeune Sain : 1.2193846532093517\n",
      "Vieux Malade : 0.8574555435845033\n",
      "Vieux Sain : 1.1638221362171366\n",
      "\n"
     ]
    }
   ],
   "source": [
    "# ------------------------------------------- Répondération en fonction du 'Patient Age' -------------------------------------------\n",
    "\n",
    "nbtotAge = data['Age Group'].count()\n",
    "nbVieux = (data['Age Group'] == 1).sum()\n",
    "nbJeunes = (data['Age Group'] == 0).sum()\n",
    "\n",
    "nbMalades = (data[\"Finding Labels\"] == 0).sum()\n",
    "nbSains = nbtotAge - nbMalades\n",
    "\n",
    "\n",
    "propJeunes = nbJeunes/nbtotAge\n",
    "propVieux = nbVieux/nbtotAge\n",
    "propM = nbMalades/nbtotAge\n",
    "propS = 1 - propM\n",
    "\n",
    "#nb de PA malades\n",
    "nbVieuxMalades = ((data[\"Age Group\"] == 1) & (data[\"Finding Labels\"] == 0)).sum()\n",
    "nbVieuxSain= nbVieux - nbVieuxMalades\n",
    "\n",
    "\n",
    "#nb de AP malades\n",
    "nbJeunesMalades = ((data[\"Age Group\"] == 0) & (data[\"Finding Labels\"] == 0)).sum()\n",
    "nbJeunesSain = nbJeunes - nbJeunesMalades\n",
    "\n",
    "\n",
    "poidsVieuxM = (nbVieux * nbMalades) / (nbVieuxMalades * nbtotAge)\n",
    "poidsVieuxS = (nbVieux * nbSains) / (nbVieuxSain * nbtotAge)\n",
    "\n",
    "poidsJeunesM = (nbJeunes * nbMalades) / (nbJeunesMalades * nbtotAge)\n",
    "poidsJeunesS = (nbJeunes * nbSains) / (nbJeunesSain * nbtotAge)\n",
    "\n",
    "print(f\"Poids calculées pour les groupes d'ages :\\nJeune Malade : {poidsJeunesM}\\nJeune Sain : {poidsJeunesS}\\nVieux Malade : {poidsVieuxM}\\nVieux Sain : {poidsVieuxS}\\n\")"
   ]
  },
  {
   "cell_type": "code",
   "execution_count": 15,
   "metadata": {},
   "outputs": [
    {
     "name": "stdout",
     "output_type": "stream",
     "text": [
      "  Patient Gender View Position  Age Group                   Finding Labels  \\\n",
      "0              M            PA          1                       No Finding   \n",
      "1              M            PA          1                         Effusion   \n",
      "2              F            PA          1                       No Finding   \n",
      "3              F            PA          1                      Atelectasis   \n",
      "4              F            PA          1                       No Finding   \n",
      "5              F            AP          1                       No Finding   \n",
      "6              F            AP          1                       No Finding   \n",
      "7              F            AP          1                         Effusion   \n",
      "8              F            AP          1             Atelectasis|Effusion   \n",
      "9              F            AP          1  Effusion|Emphysema|Infiltration   \n",
      "\n",
      "   poids_reweigth_gender  poids_reweigth_PA  poids_reweigth_age  \n",
      "0               1.151864           1.316511            1.163822  \n",
      "1               0.865272           0.778857            0.857456  \n",
      "2               1.220594           1.316511            1.163822  \n",
      "3               0.824103           0.778857            0.857456  \n",
      "4               1.220594           1.316511            1.163822  \n",
      "5               1.220594           1.113681            1.163822  \n",
      "6               1.220594           1.113681            1.163822  \n",
      "7               0.824103           0.974158            0.857456  \n",
      "8               0.824103           0.974158            0.857456  \n",
      "9               0.824103           0.974158            0.857456  \n"
     ]
    }
   ],
   "source": [
    "# First, create the new columns with default values\n",
    "data_c = metadata_Vlad.drop(columns=colonnes_a_eliminer, inplace=False) \n",
    "data_c['Age Group'] = np.where(data_c['Patient Age'] >= seuil_age, 1, 0)\n",
    "data_c['poids_reweigth_gender'] = 1.0\n",
    "data_c['poids_reweigth_PA'] = 1.0\n",
    "data_c['poids_reweigth_age'] = 1.0\n",
    "\n",
    "# Assign weights based on gender and health status\n",
    "# For females (Gender == \"F\")\n",
    "data_c.loc[(data_c['Patient Gender'] == \"F\") & (data_c['Finding Labels'] != \"No Finding\"), 'poids_reweigth_gender'] = poidsFM\n",
    "data_c.loc[(data_c['Patient Gender'] == \"F\") & (data_c['Finding Labels'] == \"No Finding\"), 'poids_reweigth_gender'] = poidsFS\n",
    "\n",
    "# For males (Gender == 0)\n",
    "data_c.loc[(data_c['Patient Gender'] == \"M\") & (data_c['Finding Labels'] != \"No Finding\"), 'poids_reweigth_gender'] = poidsHM\n",
    "data_c.loc[(data_c['Patient Gender'] == \"M\") & (data_c['Finding Labels'] == \"No Finding\"), 'poids_reweigth_gender'] = poidsHS\n",
    "\n",
    "# Assign weights based on view position and health status\n",
    "# For AP position (View Position == 1)\n",
    "data_c.loc[(data_c['View Position'] == \"AP\") & (data_c['Finding Labels'] != \"No Finding\"), 'poids_reweigth_PA'] = poidsAPM\n",
    "data_c.loc[(data_c['View Position'] == \"AP\") & (data_c['Finding Labels'] == \"No Finding\"), 'poids_reweigth_PA'] = poidsAPS\n",
    "\n",
    "# For PA position (View Position == 0)\n",
    "data_c.loc[(data_c['View Position'] == \"PA\") & (data_c['Finding Labels'] != \"No Finding\"), 'poids_reweigth_PA'] = poidsPAM\n",
    "data_c.loc[(data_c['View Position'] == \"PA\") & (data_c['Finding Labels'] == \"No Finding\"), 'poids_reweigth_PA'] = poidsPAS\n",
    "\n",
    "# Assign weights based on age and health status\n",
    "# For older patients (Age Group == 1)\n",
    "data_c.loc[(data_c['Age Group'] == 1) & (data_c['Finding Labels'] != \"No Finding\"), 'poids_reweigth_age'] = poidsVieuxM\n",
    "data_c.loc[(data_c['Age Group'] == 1) & (data_c['Finding Labels'] == \"No Finding\"), 'poids_reweigth_age'] = poidsVieuxS\n",
    "\n",
    "# For younger patients (Age Group == 0)\n",
    "data_c.loc[(data_c['Age Group'] == 0) & (data_c['Finding Labels'] != \"No Finding\"), 'poids_reweigth_age'] = poidsJeunesM\n",
    "data_c.loc[(data_c['Age Group'] == 0) & (data_c['Finding Labels'] == \"No Finding\"), 'poids_reweigth_age'] = poidsJeunesS\n",
    "\n",
    "# Save the updated data_cset with the new columns\n",
    "data_c.to_csv(\"HERRERA_NATIVI_VLADIMIR/metadata_c_with_weights.csv\", index=False)\n",
    "\n",
    "# Display a sample to verify the weights were added correctly\n",
    "print(data_c[['Patient Gender', 'View Position', 'Age Group', 'Finding Labels', \n",
    "           'poids_reweigth_gender', 'poids_reweigth_PA', 'poids_reweigth_age']].head(10))"
   ]
  },
  {
   "cell_type": "markdown",
   "metadata": {},
   "source": [
    "## Uniform-Sampling reweighting"
   ]
  },
  {
   "cell_type": "code",
   "execution_count": 53,
   "metadata": {},
   "outputs": [],
   "source": [
    "# Favorisés : Jeunes (0-20 ans), Femmes (F), PA\n",
    "\n",
    "# Défavorisés : Adultes (41-80 ans), Hommes (M), AP\n",
    "\n",
    "def groupes_bw(S):\n",
    "    if S == \"Patient Gender\":\n",
    "        return [0, 1]\n",
    "    elif S == \"View Position\":\n",
    "        return [1, 0]\n",
    "    elif S == \"Age Group\":\n",
    "        return [1, 0]\n",
    "\n",
    "\n",
    "def uniform_sampling(D, S, Label):\n",
    "    W = []\n",
    "    groupes = groupes_bw(S)\n",
    "    for s in groupes:\n",
    "        for c in [0, 1]:\n",
    "            num = ((D[S] == s).sum())*((D[Label]==c).sum())\n",
    "            denom = (((D[S] == s) & (D[Label] == c)).sum()) * D.shape[0]\n",
    "            poid = num / denom\n",
    "            W.append(poid)\n",
    "\n",
    "    nb_DN = ((D[S] == groupes[0]) & (D[Label] == 0)).sum()\n",
    "    nb_DP = ((D[S] == groupes[0]) & (D[Label] == 1)).sum()\n",
    "    nb_FN = ((D[S] == groupes[1]) & (D[Label] == 0)).sum()\n",
    "    nb_FP = ((D[S] == groupes[1]) & (D[Label] == 1)).sum()\n",
    "\n",
    "    nb_samples_DN = int(W[0]*nb_DN)\n",
    "    nb_samples_DP = int(W[1]*nb_DP)\n",
    "    nb_samples_FN = int(W[2]*nb_FN)\n",
    "    nb_samples_FP = int(W[3]*nb_FP)\n",
    "\n",
    "    samples_DN = D[(D[S] == groupes[0]) & (D[Label] == 0)].sample(n=nb_samples_DN, replace=True)  \n",
    "    samples_DP = D[(D[S] == groupes[0]) & (D[Label] == 1)].sample(n=nb_samples_DP, replace=True)\n",
    "    samples_FN = D[(D[S] == groupes[1]) & (D[Label] == 0)].sample(n=nb_samples_FN, replace=True)\n",
    "    samples_FP = D[(D[S] == groupes[1]) & (D[Label] == 1)].sample(n=nb_samples_FP, replace=True)\n",
    "    \n",
    "    df_resampled = pd.concat([samples_DN, samples_DP, samples_FN, samples_FP])\n",
    "\n",
    "    #print(nb_DN, nb_DP, nb_FN, nb_FP)\n",
    "    return df_resampled\n",
    "\n",
    "\n",
    "\n"
   ]
  },
  {
   "cell_type": "code",
   "execution_count": 54,
   "metadata": {},
   "outputs": [
    {
     "data": {
      "text/html": [
       "<div>\n",
       "<style scoped>\n",
       "    .dataframe tbody tr th:only-of-type {\n",
       "        vertical-align: middle;\n",
       "    }\n",
       "\n",
       "    .dataframe tbody tr th {\n",
       "        vertical-align: top;\n",
       "    }\n",
       "\n",
       "    .dataframe thead th {\n",
       "        text-align: right;\n",
       "    }\n",
       "</style>\n",
       "<table border=\"1\" class=\"dataframe\">\n",
       "  <thead>\n",
       "    <tr style=\"text-align: right;\">\n",
       "      <th></th>\n",
       "      <th>Image Index</th>\n",
       "      <th>Finding Labels</th>\n",
       "      <th>Follow-up #</th>\n",
       "      <th>Patient ID</th>\n",
       "      <th>Patient Age</th>\n",
       "      <th>Patient Gender</th>\n",
       "      <th>View Position</th>\n",
       "      <th>WEIGHTS</th>\n",
       "      <th>train</th>\n",
       "      <th>Age Group</th>\n",
       "    </tr>\n",
       "  </thead>\n",
       "  <tbody>\n",
       "    <tr>\n",
       "      <th>5551</th>\n",
       "      <td>00029976_005.png</td>\n",
       "      <td>0</td>\n",
       "      <td>5</td>\n",
       "      <td>29976</td>\n",
       "      <td>52</td>\n",
       "      <td>0</td>\n",
       "      <td>0</td>\n",
       "      <td>1</td>\n",
       "      <td>False</td>\n",
       "      <td>1</td>\n",
       "    </tr>\n",
       "    <tr>\n",
       "      <th>4882</th>\n",
       "      <td>00025237_000.png</td>\n",
       "      <td>0</td>\n",
       "      <td>0</td>\n",
       "      <td>25237</td>\n",
       "      <td>62</td>\n",
       "      <td>0</td>\n",
       "      <td>0</td>\n",
       "      <td>1</td>\n",
       "      <td>True</td>\n",
       "      <td>1</td>\n",
       "    </tr>\n",
       "    <tr>\n",
       "      <th>2202</th>\n",
       "      <td>00010896_001.png</td>\n",
       "      <td>0</td>\n",
       "      <td>1</td>\n",
       "      <td>10896</td>\n",
       "      <td>72</td>\n",
       "      <td>0</td>\n",
       "      <td>0</td>\n",
       "      <td>1</td>\n",
       "      <td>False</td>\n",
       "      <td>1</td>\n",
       "    </tr>\n",
       "    <tr>\n",
       "      <th>4989</th>\n",
       "      <td>00026197_004.png</td>\n",
       "      <td>0</td>\n",
       "      <td>4</td>\n",
       "      <td>26197</td>\n",
       "      <td>41</td>\n",
       "      <td>0</td>\n",
       "      <td>0</td>\n",
       "      <td>1</td>\n",
       "      <td>True</td>\n",
       "      <td>1</td>\n",
       "    </tr>\n",
       "    <tr>\n",
       "      <th>333</th>\n",
       "      <td>00002072_013.png</td>\n",
       "      <td>0</td>\n",
       "      <td>13</td>\n",
       "      <td>2072</td>\n",
       "      <td>10</td>\n",
       "      <td>0</td>\n",
       "      <td>1</td>\n",
       "      <td>1</td>\n",
       "      <td>True</td>\n",
       "      <td>0</td>\n",
       "    </tr>\n",
       "    <tr>\n",
       "      <th>...</th>\n",
       "      <td>...</td>\n",
       "      <td>...</td>\n",
       "      <td>...</td>\n",
       "      <td>...</td>\n",
       "      <td>...</td>\n",
       "      <td>...</td>\n",
       "      <td>...</td>\n",
       "      <td>...</td>\n",
       "      <td>...</td>\n",
       "      <td>...</td>\n",
       "    </tr>\n",
       "    <tr>\n",
       "      <th>5316</th>\n",
       "      <td>00028108_000.png</td>\n",
       "      <td>1</td>\n",
       "      <td>0</td>\n",
       "      <td>28108</td>\n",
       "      <td>25</td>\n",
       "      <td>1</td>\n",
       "      <td>0</td>\n",
       "      <td>1</td>\n",
       "      <td>False</td>\n",
       "      <td>0</td>\n",
       "    </tr>\n",
       "    <tr>\n",
       "      <th>2021</th>\n",
       "      <td>00010530_005.png</td>\n",
       "      <td>1</td>\n",
       "      <td>5</td>\n",
       "      <td>10530</td>\n",
       "      <td>36</td>\n",
       "      <td>1</td>\n",
       "      <td>0</td>\n",
       "      <td>1</td>\n",
       "      <td>True</td>\n",
       "      <td>0</td>\n",
       "    </tr>\n",
       "    <tr>\n",
       "      <th>3445</th>\n",
       "      <td>00016397_005.png</td>\n",
       "      <td>1</td>\n",
       "      <td>5</td>\n",
       "      <td>16397</td>\n",
       "      <td>45</td>\n",
       "      <td>1</td>\n",
       "      <td>1</td>\n",
       "      <td>1</td>\n",
       "      <td>True</td>\n",
       "      <td>1</td>\n",
       "    </tr>\n",
       "    <tr>\n",
       "      <th>5050</th>\n",
       "      <td>00026560_001.png</td>\n",
       "      <td>1</td>\n",
       "      <td>1</td>\n",
       "      <td>26560</td>\n",
       "      <td>44</td>\n",
       "      <td>1</td>\n",
       "      <td>1</td>\n",
       "      <td>1</td>\n",
       "      <td>True</td>\n",
       "      <td>1</td>\n",
       "    </tr>\n",
       "    <tr>\n",
       "      <th>3488</th>\n",
       "      <td>00016508_030.png</td>\n",
       "      <td>1</td>\n",
       "      <td>30</td>\n",
       "      <td>16508</td>\n",
       "      <td>51</td>\n",
       "      <td>1</td>\n",
       "      <td>1</td>\n",
       "      <td>1</td>\n",
       "      <td>True</td>\n",
       "      <td>1</td>\n",
       "    </tr>\n",
       "  </tbody>\n",
       "</table>\n",
       "<p>5624 rows × 10 columns</p>\n",
       "</div>"
      ],
      "text/plain": [
       "           Image Index  Finding Labels  Follow-up #  Patient ID  Patient Age  \\\n",
       "5551  00029976_005.png               0            5       29976           52   \n",
       "4882  00025237_000.png               0            0       25237           62   \n",
       "2202  00010896_001.png               0            1       10896           72   \n",
       "4989  00026197_004.png               0            4       26197           41   \n",
       "333   00002072_013.png               0           13        2072           10   \n",
       "...                ...             ...          ...         ...          ...   \n",
       "5316  00028108_000.png               1            0       28108           25   \n",
       "2021  00010530_005.png               1            5       10530           36   \n",
       "3445  00016397_005.png               1            5       16397           45   \n",
       "5050  00026560_001.png               1            1       26560           44   \n",
       "3488  00016508_030.png               1           30       16508           51   \n",
       "\n",
       "      Patient Gender  View Position  WEIGHTS  train  Age Group  \n",
       "5551               0              0        1  False          1  \n",
       "4882               0              0        1   True          1  \n",
       "2202               0              0        1  False          1  \n",
       "4989               0              0        1   True          1  \n",
       "333                0              1        1   True          0  \n",
       "...              ...            ...      ...    ...        ...  \n",
       "5316               1              0        1  False          0  \n",
       "2021               1              0        1   True          0  \n",
       "3445               1              1        1   True          1  \n",
       "5050               1              1        1   True          1  \n",
       "3488               1              1        1   True          1  \n",
       "\n",
       "[5624 rows x 10 columns]"
      ]
     },
     "execution_count": 54,
     "metadata": {},
     "output_type": "execute_result"
    }
   ],
   "source": [
    "# Favorisés : Jeunes (0-20 ans), Femmes (F), PA\n",
    "# Défavorisés : Adultes (41-80 ans), Hommes (M), AP\n",
    "\n",
    "df_sexe = uniform_sampling(data, \"Patient Gender\", \"Finding Labels\")\n",
    "\n",
    "df_sexe"
   ]
  },
  {
   "cell_type": "markdown",
   "metadata": {},
   "source": [
    "### Creer une instance de StandardDataset de AIF360"
   ]
  },
  {
   "cell_type": "code",
   "execution_count": 16,
   "metadata": {},
   "outputs": [],
   "source": [
    "import os\n",
    "from aif360.datasets import StandardDataset"
   ]
  },
  {
   "cell_type": "code",
   "execution_count": 17,
   "metadata": {},
   "outputs": [
    {
     "name": "stdout",
     "output_type": "stream",
     "text": [
      "  Ancien Image Index  Nouveau Index\n",
      "0   00000006_000.png              0\n",
      "1   00000025_000.png              1\n",
      "2   00000029_000.png              2\n",
      "3   00000072_000.png              3\n",
      "4   00000090_000.png              4\n"
     ]
    },
    {
     "data": {
      "text/html": [
       "<div>\n",
       "<style scoped>\n",
       "    .dataframe tbody tr th:only-of-type {\n",
       "        vertical-align: middle;\n",
       "    }\n",
       "\n",
       "    .dataframe tbody tr th {\n",
       "        vertical-align: top;\n",
       "    }\n",
       "\n",
       "    .dataframe thead th {\n",
       "        text-align: right;\n",
       "    }\n",
       "</style>\n",
       "<table border=\"1\" class=\"dataframe\">\n",
       "  <thead>\n",
       "    <tr style=\"text-align: right;\">\n",
       "      <th></th>\n",
       "      <th>Image Index</th>\n",
       "      <th>Finding Labels</th>\n",
       "      <th>Follow-up #</th>\n",
       "      <th>Patient ID</th>\n",
       "      <th>Patient Age</th>\n",
       "      <th>Patient Gender</th>\n",
       "      <th>View Position</th>\n",
       "      <th>WEIGHTS</th>\n",
       "      <th>train</th>\n",
       "      <th>Age Group</th>\n",
       "    </tr>\n",
       "  </thead>\n",
       "  <tbody>\n",
       "    <tr>\n",
       "      <th>0</th>\n",
       "      <td>0</td>\n",
       "      <td>1</td>\n",
       "      <td>0</td>\n",
       "      <td>6</td>\n",
       "      <td>81</td>\n",
       "      <td>0</td>\n",
       "      <td>0</td>\n",
       "      <td>1</td>\n",
       "      <td>True</td>\n",
       "      <td>1</td>\n",
       "    </tr>\n",
       "    <tr>\n",
       "      <th>1</th>\n",
       "      <td>1</td>\n",
       "      <td>0</td>\n",
       "      <td>0</td>\n",
       "      <td>25</td>\n",
       "      <td>71</td>\n",
       "      <td>0</td>\n",
       "      <td>0</td>\n",
       "      <td>1</td>\n",
       "      <td>True</td>\n",
       "      <td>1</td>\n",
       "    </tr>\n",
       "    <tr>\n",
       "      <th>2</th>\n",
       "      <td>2</td>\n",
       "      <td>1</td>\n",
       "      <td>0</td>\n",
       "      <td>29</td>\n",
       "      <td>59</td>\n",
       "      <td>1</td>\n",
       "      <td>0</td>\n",
       "      <td>1</td>\n",
       "      <td>False</td>\n",
       "      <td>1</td>\n",
       "    </tr>\n",
       "    <tr>\n",
       "      <th>3</th>\n",
       "      <td>3</td>\n",
       "      <td>0</td>\n",
       "      <td>0</td>\n",
       "      <td>72</td>\n",
       "      <td>67</td>\n",
       "      <td>1</td>\n",
       "      <td>0</td>\n",
       "      <td>1</td>\n",
       "      <td>True</td>\n",
       "      <td>1</td>\n",
       "    </tr>\n",
       "    <tr>\n",
       "      <th>4</th>\n",
       "      <td>4</td>\n",
       "      <td>1</td>\n",
       "      <td>0</td>\n",
       "      <td>90</td>\n",
       "      <td>67</td>\n",
       "      <td>1</td>\n",
       "      <td>0</td>\n",
       "      <td>1</td>\n",
       "      <td>True</td>\n",
       "      <td>1</td>\n",
       "    </tr>\n",
       "    <tr>\n",
       "      <th>...</th>\n",
       "      <td>...</td>\n",
       "      <td>...</td>\n",
       "      <td>...</td>\n",
       "      <td>...</td>\n",
       "      <td>...</td>\n",
       "      <td>...</td>\n",
       "      <td>...</td>\n",
       "      <td>...</td>\n",
       "      <td>...</td>\n",
       "      <td>...</td>\n",
       "    </tr>\n",
       "    <tr>\n",
       "      <th>5622</th>\n",
       "      <td>5622</td>\n",
       "      <td>1</td>\n",
       "      <td>0</td>\n",
       "      <td>30752</td>\n",
       "      <td>64</td>\n",
       "      <td>1</td>\n",
       "      <td>1</td>\n",
       "      <td>1</td>\n",
       "      <td>True</td>\n",
       "      <td>1</td>\n",
       "    </tr>\n",
       "    <tr>\n",
       "      <th>5623</th>\n",
       "      <td>5623</td>\n",
       "      <td>1</td>\n",
       "      <td>0</td>\n",
       "      <td>30772</td>\n",
       "      <td>26</td>\n",
       "      <td>1</td>\n",
       "      <td>1</td>\n",
       "      <td>1</td>\n",
       "      <td>True</td>\n",
       "      <td>0</td>\n",
       "    </tr>\n",
       "    <tr>\n",
       "      <th>5624</th>\n",
       "      <td>5624</td>\n",
       "      <td>0</td>\n",
       "      <td>1</td>\n",
       "      <td>30772</td>\n",
       "      <td>26</td>\n",
       "      <td>1</td>\n",
       "      <td>1</td>\n",
       "      <td>1</td>\n",
       "      <td>True</td>\n",
       "      <td>0</td>\n",
       "    </tr>\n",
       "    <tr>\n",
       "      <th>5625</th>\n",
       "      <td>5625</td>\n",
       "      <td>0</td>\n",
       "      <td>2</td>\n",
       "      <td>30772</td>\n",
       "      <td>26</td>\n",
       "      <td>1</td>\n",
       "      <td>1</td>\n",
       "      <td>1</td>\n",
       "      <td>True</td>\n",
       "      <td>0</td>\n",
       "    </tr>\n",
       "    <tr>\n",
       "      <th>5626</th>\n",
       "      <td>5626</td>\n",
       "      <td>1</td>\n",
       "      <td>0</td>\n",
       "      <td>30805</td>\n",
       "      <td>27</td>\n",
       "      <td>0</td>\n",
       "      <td>0</td>\n",
       "      <td>1</td>\n",
       "      <td>True</td>\n",
       "      <td>0</td>\n",
       "    </tr>\n",
       "  </tbody>\n",
       "</table>\n",
       "<p>5627 rows × 10 columns</p>\n",
       "</div>"
      ],
      "text/plain": [
       "      Image Index  Finding Labels  Follow-up #  Patient ID  Patient Age  \\\n",
       "0               0               1            0           6           81   \n",
       "1               1               0            0          25           71   \n",
       "2               2               1            0          29           59   \n",
       "3               3               0            0          72           67   \n",
       "4               4               1            0          90           67   \n",
       "...           ...             ...          ...         ...          ...   \n",
       "5622         5622               1            0       30752           64   \n",
       "5623         5623               1            0       30772           26   \n",
       "5624         5624               0            1       30772           26   \n",
       "5625         5625               0            2       30772           26   \n",
       "5626         5626               1            0       30805           27   \n",
       "\n",
       "      Patient Gender  View Position  WEIGHTS  train  Age Group  \n",
       "0                  0              0        1   True          1  \n",
       "1                  0              0        1   True          1  \n",
       "2                  1              0        1  False          1  \n",
       "3                  1              0        1   True          1  \n",
       "4                  1              0        1   True          1  \n",
       "...              ...            ...      ...    ...        ...  \n",
       "5622               1              1        1   True          1  \n",
       "5623               1              1        1   True          0  \n",
       "5624               1              1        1   True          0  \n",
       "5625               1              1        1   True          0  \n",
       "5626               0              0        1   True          0  \n",
       "\n",
       "[5627 rows x 10 columns]"
      ]
     },
     "execution_count": 17,
     "metadata": {},
     "output_type": "execute_result"
    }
   ],
   "source": [
    "# Transformation du type de la colonne Image Index (string) en int\n",
    "#  et création de la table de correspondance \n",
    "\n",
    "mapping_dict = {val: idx for idx, val in enumerate(data['Image Index'].unique())}\n",
    "data['Image Index'] = data['Image Index'].map(mapping_dict)\n",
    "mapping_table = pd.DataFrame(list(mapping_dict.items()), columns=['Ancien Image Index', 'Nouveau Index'])\n",
    "#print(data_imgIdxInt.head())\n",
    "print(mapping_table.head())\n",
    "\n",
    "data"
   ]
  },
  {
   "cell_type": "code",
   "execution_count": null,
   "metadata": {},
   "outputs": [],
   "source": []
  },
  {
   "cell_type": "code",
   "execution_count": 18,
   "metadata": {},
   "outputs": [],
   "source": [
    "# Get categorical column from one hot encoding (specitic to MEPSdataset)\n",
    "# Here we create a dictionnary that links each categorical column name\n",
    "# to the list of corresponding one hot encoded columns\n",
    "categorical_columns_dic = {}\n",
    "for col in data.columns:\n",
    "    col_split = col.split(\"=\")\n",
    "    if len(col_split) > 1:\n",
    "        cat_col = col_split[0]\n",
    "        if not (cat_col in categorical_columns_dic.keys()):\n",
    "            categorical_columns_dic[cat_col] = []\n",
    "        categorical_columns_dic[cat_col].append(col)\n",
    "categorical_features = categorical_columns_dic.keys()"
   ]
  },
  {
   "cell_type": "code",
   "execution_count": null,
   "metadata": {},
   "outputs": [],
   "source": [
    "MyDataset = StandardDataset(\n",
    "    df=data,\n",
    "    label_name=\"Finding Labels\",\n",
    "    favorable_classes=[0],\n",
    "    protected_attribute_names=[\"Patient Gender\"],\n",
    "    privileged_classes=[[1]], # a analyser \n",
    "    instance_weights_name=\"WEIGHTS\",\n",
    "    categorical_features=categorical_features,\n",
    "    na_values=[\"?\", \"Unknown/Invalid\"],\n",
    "    custom_preprocessing=None,\n",
    "    metadata=None,\n",
    ")\n",
    "\n"
   ]
  },
  {
   "cell_type": "markdown",
   "metadata": {},
   "source": [
    "## Preprocessing : Implémentations Reweighing AIF360"
   ]
  },
  {
   "cell_type": "code",
   "execution_count": 33,
   "metadata": {},
   "outputs": [
    {
     "data": {
      "text/plain": [
       "('Patient Gender',\n",
       " [{'Patient Gender': np.float64(0.0)}],\n",
       " [{'Patient Gender': np.float64(1.0)}])"
      ]
     },
     "execution_count": 33,
     "metadata": {},
     "output_type": "execute_result"
    }
   ],
   "source": [
    "sens_ind = 0\n",
    "sens_attr = MyDataset.protected_attribute_names[sens_ind]\n",
    "unprivileged_groups = [\n",
    "    {sens_attr: v}\n",
    "    for v in MyDataset.unprivileged_protected_attributes[sens_ind]\n",
    "]\n",
    "privileged_groups = [\n",
    "    {sens_attr: v}\n",
    "    for v in MyDataset.privileged_protected_attributes[sens_ind]\n",
    "]\n",
    "sens_attr, unprivileged_groups, privileged_groups"
   ]
  },
  {
   "cell_type": "code",
   "execution_count": 34,
   "metadata": {},
   "outputs": [],
   "source": [
    "from aif360.algorithms.preprocessing import *\n",
    "\n",
    "RW = Reweighing(\n",
    "    unprivileged_groups=unprivileged_groups, privileged_groups=privileged_groups\n",
    ")"
   ]
  },
  {
   "cell_type": "code",
   "execution_count": 35,
   "metadata": {},
   "outputs": [],
   "source": [
    "RW.fit(MyDataset)\n",
    "dataset_transf_train = RW.transform(MyDataset)\n",
    "dataset_transf_val = RW.transform(MyDataset)"
   ]
  },
  {
   "cell_type": "code",
   "execution_count": 39,
   "metadata": {},
   "outputs": [
    {
     "data": {
      "text/plain": [
       "array([1.02189253, 0.97532303, 0.97327261, ..., 1.03351918, 1.03351918,\n",
       "       1.02189253], shape=(5627,))"
      ]
     },
     "execution_count": 39,
     "metadata": {},
     "output_type": "execute_result"
    }
   ],
   "source": [
    "dataset_transf_train.instance_weights"
   ]
  },
  {
   "cell_type": "markdown",
   "metadata": {},
   "source": [
    "# Post-processing\n"
   ]
  },
  {
   "cell_type": "markdown",
   "metadata": {},
   "source": [
    "## Reject-option classification"
   ]
  },
  {
   "cell_type": "code",
   "execution_count": 55,
   "metadata": {},
   "outputs": [],
   "source": [
    "from aif360.algorithms.postprocessing.reject_option_classification import (\n",
    "    RejectOptionClassification,\n",
    ")"
   ]
  },
  {
   "cell_type": "code",
   "execution_count": null,
   "metadata": {},
   "outputs": [],
   "source": []
  },
  {
   "cell_type": "markdown",
   "metadata": {},
   "source": [
    "## Equalized-odds"
   ]
  },
  {
   "cell_type": "code",
   "execution_count": null,
   "metadata": {},
   "outputs": [],
   "source": []
  },
  {
   "cell_type": "markdown",
   "metadata": {},
   "source": [
    "### Calcul de Metrics\n"
   ]
  },
  {
   "cell_type": "code",
   "execution_count": 22,
   "metadata": {},
   "outputs": [
    {
     "data": {
      "text/plain": [
       "(1.0879087689318454, np.float64(0.5414963568508975))"
      ]
     },
     "execution_count": 22,
     "metadata": {},
     "output_type": "execute_result"
    }
   ],
   "source": [
    "from aif360.sklearn.metrics import disparate_impact_ratio, base_rate\n",
    "\n",
    "dir = disparate_impact_ratio(\n",
    "    y_true=data[\"Finding Labels\"], y_pred=preds_weights[\"preds\"], prot_attr=data[\"Patient Gender\"] , pos_label=1, sample_weight=data.WEIGHTS\n",
    ")\n",
    "br = base_rate(y_true=data[\"Finding Labels\"] , pos_label=1, sample_weight=data.WEIGHTS)\n",
    "dir, br"
   ]
  },
  {
   "cell_type": "code",
   "execution_count": 23,
   "metadata": {},
   "outputs": [
    {
     "data": {
      "text/plain": [
       "(1.2696564700765505, np.float64(0.5414963568508975))"
      ]
     },
     "execution_count": 23,
     "metadata": {},
     "output_type": "execute_result"
    }
   ],
   "source": [
    "dir = disparate_impact_ratio(\n",
    "    y_true=data[\"Finding Labels\"], y_pred=preds_weights[\"preds\"], prot_attr=data[\"Age Group\"] , pos_label=1, sample_weight=data.WEIGHTS\n",
    ")\n",
    "br = base_rate(y_true=data[\"Finding Labels\"] , pos_label=1, sample_weight=data.WEIGHTS)\n",
    "dir, br"
   ]
  },
  {
   "cell_type": "code",
   "execution_count": null,
   "metadata": {},
   "outputs": [],
   "source": []
  }
 ],
 "metadata": {
  "kernelspec": {
   "display_name": "Python 3",
   "language": "python",
   "name": "python3"
  },
  "language_info": {
   "codemirror_mode": {
    "name": "ipython",
    "version": 3
   },
   "file_extension": ".py",
   "mimetype": "text/x-python",
   "name": "python",
   "nbconvert_exporter": "python",
   "pygments_lexer": "ipython3",
   "version": "3.10.16"
  }
 },
 "nbformat": 4,
 "nbformat_minor": 2
}
